{
 "cells": [
  {
   "cell_type": "markdown",
   "metadata": {},
   "source": [
    "## Week 10 and 11 Assignment - DATASCI200 Introduction to Data Science Programming, UC Berkeley MIDS\n",
    "\n",
    "Write code in this Jupyter Notebook to solve the following problems. Please upload this **Notebook** with your solutions to your GitHub repository and provide a link in the last question in gradescope. \n",
    "\n",
    "Assignment due date: 11:59PM PT the night before the Week 12 Live Session. Do **NOT** push/upload the data file. "
   ]
  },
  {
   "cell_type": "markdown",
   "metadata": {},
   "source": [
    "## Objectives\n",
    "\n",
    "- Explore and glean insights from a real dataset using pandas\n",
    "- Practice using pandas for exploratory analysis, information gathering, and discovery\n",
    "- Practice cleaning data and answering questions"
   ]
  },
  {
   "cell_type": "markdown",
   "metadata": {},
   "source": [
    "## General Guidelines:\n",
    "\n",
    "- This is a **real** dataset and so it may contain errors and other pecularities to work through\n",
    "- This dataset is ~218mb, which will take some time to load (and probably won't load in Google Sheets or Excel)\n",
    "- If you make assumptions, annotate them in your responses\n",
    "- While there is one code/markdown cell positioned after each question as a placeholder, some of your code/responses may require multiple cells\n",
    "- Double-click the markdown cells that say for example **1a answer here:** to enter your written answers. If you need more cells for your written answers, make them markdown cells (rather than code cells)\n",
    "- This homework assignment is not autograded because of the variety of responses one could give. \n",
    "  - Please upload this notebook to the autograder page and the TAs will manually grade it. \n",
    "  - Ensure that each cell is run and outputs your answer for ease of grading! \n",
    "  - Highly suggest to do a `restart & run all` before uploading your code to ensure everything runs and outputs correctly.\n",
    "  - Answers without code (or code that runs) will be given 0 points.\n",
    "- **This is meant to simulate real world data so you will have to do some external research to determine what some of the answers are!** "
   ]
  },
  {
   "cell_type": "markdown",
   "metadata": {},
   "source": [
    "## Dataset\n",
    "\n",
    "You are to analyze campaign contributions to the 2016 U.S. presidential primary races made in California. Use the csv file located here: https://drive.google.com/file/d/1Lgg-PwXQ6TQLDowd6XyBxZw5g1NGWPjB/view?usp=sharing. You should download and save this file in the same folder as this notebook is stored.  This file originally came from the U.S. Federal Election Commission (https://www.fec.gov/).\n",
    "\n",
    "**DO NOT PUSH THIS FILE TO YOUR GITHUB REPO!**\n",
    "\n",
    "- Best practice is to not have DATA files in your code repo. As shown below, the default load is outside of the folder this notebook is in. If you change the folder where the file is stored please update the first cell!\n",
    "- If you do accidentally push the file to your github repo - follow the directions here to fix it: https://docs.google.com/document/d/15Irgb5V5G7pKPWgAerH7FPMpKeQRunbNflaW-hR2hTA/edit?usp=sharing\n",
    "\n",
    "Documentation for this data can be found here: https://drive.google.com/file/d/11o_SByceenv0NgNMstM-dxC1jL7I9fHL/view?usp=sharing"
   ]
  },
  {
   "cell_type": "markdown",
   "metadata": {},
   "source": [
    "## Data Questions\n",
    "\n",
    "You are working for a California state-wide election campaign. Your boss wants you to examine historic 2016 election contribution data to see what zipcodes are more supportive of fundraising for your candidate. \n",
    "\n",
    "Your boss asks you to filter out some of the records:\n",
    "- Only use primary 2016 contribution data (more like how your race is).\n",
    "- Concentrate on Bernie Sanders as a candidate (most a like your candidate)\n",
    "\n",
    "The questions your boss wants answered is:\n",
    "- Which zipcode (5-digit zipcode) had the highest count of contributions and the most dollar amount?\n",
    "- What day(s) of the month do most people donate?"
   ]
  },
  {
   "cell_type": "markdown",
   "metadata": {},
   "source": [
    "## Setup\n",
    "\n",
    "Run the cell below as it will load the data into a pandas dataframe named `contrib`. Note that a custom date parser is defined to speed up loading. If Python were to guess the date format, it would take even longer to load."
   ]
  },
  {
   "cell_type": "code",
   "execution_count": 1,
   "metadata": {},
   "outputs": [
    {
     "name": "stderr",
     "output_type": "stream",
     "text": [
      "/var/folders/g6/0bc2_tl1389c2rmm69jgtcr00000gn/T/ipykernel_86266/2050583822.py:14: FutureWarning: The argument 'date_parser' is deprecated and will be removed in a future version. Please use 'date_format' instead, or read your data in as 'object' dtype and then call 'to_datetime'.\n",
      "  contrib = pd.read_csv('P00000001-CA.csv', index_col=False, parse_dates=['contb_receipt_dt'], date_parser=d)\n",
      "/var/folders/g6/0bc2_tl1389c2rmm69jgtcr00000gn/T/ipykernel_86266/2050583822.py:14: DtypeWarning: Columns (6,11,12) have mixed types. Specify dtype option on import or set low_memory=False.\n",
      "  contrib = pd.read_csv('P00000001-CA.csv', index_col=False, parse_dates=['contb_receipt_dt'], date_parser=d)\n"
     ]
    }
   ],
   "source": [
    "import pandas as pd\n",
    "import numpy as np\n",
    "from datetime import datetime\n",
    "\n",
    "# These commands below set some options for pandas and to have matplotlib show the charts in the notebook\n",
    "pd.set_option('display.max_rows', 1000)\n",
    "pd.options.display.float_format = '{:,.2f}'.format\n",
    "\n",
    "# Define a date parser to pass to read_csv\n",
    "d = lambda x: datetime.strptime(x, '%d-%b-%y')\n",
    "\n",
    "# Load the data\n",
    "# We have this defaulted to the folder OUTSIDE of your repo - please change it as needed\n",
    "contrib = pd.read_csv('P00000001-CA.csv', index_col=False, parse_dates=['contb_receipt_dt'], date_parser=d)\n",
    "\n",
    "# Note - for now, it is okay to ignore the warning about mixed types. "
   ]
  },
  {
   "cell_type": "markdown",
   "metadata": {},
   "source": [
    "***\n",
    "## 1. Initial Data Checks (50 points)\n",
    "\n",
    "First we will take a preliminary look at the data to check that it was loaded correctly and contains the info we need.\n",
    "\n",
    "The questions to answer at the end of this section:\n",
    "- Do we have the correct # of columns and rows. \n",
    "- Do the records contain data for the questions we want to answer \n",
    "- What columns are important? \n",
    "- What columns can be dropped?\n",
    "- What are the data problems?"
   ]
  },
  {
   "cell_type": "markdown",
   "metadata": {},
   "source": [
    "**1a.** Print the *shape* of the data. Does this match the expectation? (2 points)"
   ]
  },
  {
   "cell_type": "code",
   "execution_count": 2,
   "metadata": {
    "deletable": false,
    "nbgrader": {
     "checksum": "9f7a7938e43b14d3c7c49d6a278b0bb1",
     "grade": true,
     "grade_id": "cell-5d017805206f18b1",
     "locked": false,
     "points": 0,
     "schema_version": 1,
     "solution": true
    }
   },
   "outputs": [
    {
     "data": {
      "text/plain": [
       "(1125659, 18)"
      ]
     },
     "execution_count": 2,
     "metadata": {},
     "output_type": "execute_result"
    }
   ],
   "source": [
    "# 1a YOUR CODE HERE\n",
    "df = contrib\n",
    "df.shape"
   ]
  },
  {
   "cell_type": "markdown",
   "metadata": {},
   "source": [
    "- **1a answer here:** Yes, seems to be a reasonable amount of rows and the correct amount of columns "
   ]
  },
  {
   "cell_type": "markdown",
   "metadata": {
    "deletable": false,
    "nbgrader": {
     "checksum": "e6a198453ec4b0171a064fef0bd7c678",
     "grade": true,
     "grade_id": "cell-3bc26919169bf4aa",
     "locked": false,
     "points": 5,
     "schema_version": 1,
     "solution": true
    }
   },
   "source": [
    "**1b.** Print a list of column names. Are all the columns included that are in the documentation? (2 points)"
   ]
  },
  {
   "cell_type": "code",
   "execution_count": 3,
   "metadata": {
    "deletable": false,
    "nbgrader": {
     "checksum": "4fbf682f1c78b3614832c6f48ecd88c7",
     "grade": true,
     "grade_id": "cell-72bc97601b84f17d",
     "locked": false,
     "points": 5,
     "schema_version": 1,
     "solution": true
    }
   },
   "outputs": [
    {
     "data": {
      "text/plain": [
       "Index(['cmte_id', 'cand_id', 'cand_nm', 'contbr_nm', 'contbr_city',\n",
       "       'contbr_st', 'contbr_zip', 'contbr_employer', 'contbr_occupation',\n",
       "       'contb_receipt_amt', 'contb_receipt_dt', 'receipt_desc', 'memo_cd',\n",
       "       'memo_text', 'form_tp', 'file_num', 'tran_id', 'election_tp'],\n",
       "      dtype='object')"
      ]
     },
     "execution_count": 3,
     "metadata": {},
     "output_type": "execute_result"
    }
   ],
   "source": [
    "# 1b YOUR CODE HERE\n",
    "df.columns"
   ]
  },
  {
   "cell_type": "markdown",
   "metadata": {},
   "source": [
    "- **1b answer here:** Yes"
   ]
  },
  {
   "cell_type": "markdown",
   "metadata": {},
   "source": [
    "**1c** Print out the first five rows of the dataset. How do the columns `cand_id`, `cand_nm` and `contbr_st` look? (3 points)"
   ]
  },
  {
   "cell_type": "code",
   "execution_count": 4,
   "metadata": {},
   "outputs": [
    {
     "data": {
      "text/html": [
       "<div>\n",
       "<style scoped>\n",
       "    .dataframe tbody tr th:only-of-type {\n",
       "        vertical-align: middle;\n",
       "    }\n",
       "\n",
       "    .dataframe tbody tr th {\n",
       "        vertical-align: top;\n",
       "    }\n",
       "\n",
       "    .dataframe thead th {\n",
       "        text-align: right;\n",
       "    }\n",
       "</style>\n",
       "<table border=\"1\" class=\"dataframe\">\n",
       "  <thead>\n",
       "    <tr style=\"text-align: right;\">\n",
       "      <th></th>\n",
       "      <th>cmte_id</th>\n",
       "      <th>cand_id</th>\n",
       "      <th>cand_nm</th>\n",
       "      <th>contbr_nm</th>\n",
       "      <th>contbr_city</th>\n",
       "      <th>contbr_st</th>\n",
       "      <th>contbr_zip</th>\n",
       "      <th>contbr_employer</th>\n",
       "      <th>contbr_occupation</th>\n",
       "      <th>contb_receipt_amt</th>\n",
       "      <th>contb_receipt_dt</th>\n",
       "      <th>receipt_desc</th>\n",
       "      <th>memo_cd</th>\n",
       "      <th>memo_text</th>\n",
       "      <th>form_tp</th>\n",
       "      <th>file_num</th>\n",
       "      <th>tran_id</th>\n",
       "      <th>election_tp</th>\n",
       "    </tr>\n",
       "  </thead>\n",
       "  <tbody>\n",
       "    <tr>\n",
       "      <th>0</th>\n",
       "      <td>C00575795</td>\n",
       "      <td>P00003392</td>\n",
       "      <td>Clinton, Hillary Rodham</td>\n",
       "      <td>AULL, ANNE</td>\n",
       "      <td>LARKSPUR</td>\n",
       "      <td>CA</td>\n",
       "      <td>949,391,913.00</td>\n",
       "      <td>NaN</td>\n",
       "      <td>RETIRED</td>\n",
       "      <td>50.00</td>\n",
       "      <td>2016-04-26</td>\n",
       "      <td>NaN</td>\n",
       "      <td>X</td>\n",
       "      <td>* HILLARY VICTORY FUND</td>\n",
       "      <td>SA18</td>\n",
       "      <td>1091718</td>\n",
       "      <td>C4768722</td>\n",
       "      <td>P2016</td>\n",
       "    </tr>\n",
       "    <tr>\n",
       "      <th>1</th>\n",
       "      <td>C00575795</td>\n",
       "      <td>P00003392</td>\n",
       "      <td>Clinton, Hillary Rodham</td>\n",
       "      <td>CARROLL, MARYJEAN</td>\n",
       "      <td>CAMBRIA</td>\n",
       "      <td>CA</td>\n",
       "      <td>934,284,638.00</td>\n",
       "      <td>NaN</td>\n",
       "      <td>RETIRED</td>\n",
       "      <td>200.00</td>\n",
       "      <td>2016-04-20</td>\n",
       "      <td>NaN</td>\n",
       "      <td>X</td>\n",
       "      <td>* HILLARY VICTORY FUND</td>\n",
       "      <td>SA18</td>\n",
       "      <td>1091718</td>\n",
       "      <td>C4747242</td>\n",
       "      <td>P2016</td>\n",
       "    </tr>\n",
       "    <tr>\n",
       "      <th>2</th>\n",
       "      <td>C00575795</td>\n",
       "      <td>P00003392</td>\n",
       "      <td>Clinton, Hillary Rodham</td>\n",
       "      <td>GANDARA, DESIREE</td>\n",
       "      <td>FONTANA</td>\n",
       "      <td>CA</td>\n",
       "      <td>923,371,507.00</td>\n",
       "      <td>NaN</td>\n",
       "      <td>RETIRED</td>\n",
       "      <td>5.00</td>\n",
       "      <td>2016-04-02</td>\n",
       "      <td>NaN</td>\n",
       "      <td>X</td>\n",
       "      <td>* HILLARY VICTORY FUND</td>\n",
       "      <td>SA18</td>\n",
       "      <td>1091718</td>\n",
       "      <td>C4666603</td>\n",
       "      <td>P2016</td>\n",
       "    </tr>\n",
       "    <tr>\n",
       "      <th>3</th>\n",
       "      <td>C00577130</td>\n",
       "      <td>P60007168</td>\n",
       "      <td>Sanders, Bernard</td>\n",
       "      <td>LEE, ALAN</td>\n",
       "      <td>CAMARILLO</td>\n",
       "      <td>CA</td>\n",
       "      <td>930,111,214.00</td>\n",
       "      <td>AT&amp;T GOVERNMENT SOLUTIONS</td>\n",
       "      <td>SOFTWARE ENGINEER</td>\n",
       "      <td>40.00</td>\n",
       "      <td>2016-03-04</td>\n",
       "      <td>NaN</td>\n",
       "      <td>NaN</td>\n",
       "      <td>* EARMARKED CONTRIBUTION: SEE BELOW</td>\n",
       "      <td>SA17A</td>\n",
       "      <td>1077404</td>\n",
       "      <td>VPF7BKWA097</td>\n",
       "      <td>P2016</td>\n",
       "    </tr>\n",
       "    <tr>\n",
       "      <th>4</th>\n",
       "      <td>C00577130</td>\n",
       "      <td>P60007168</td>\n",
       "      <td>Sanders, Bernard</td>\n",
       "      <td>LEONELLI, ODETTE</td>\n",
       "      <td>REDONDO BEACH</td>\n",
       "      <td>CA</td>\n",
       "      <td>902,784,310.00</td>\n",
       "      <td>VERICOR ENTERPRISES INC.</td>\n",
       "      <td>PHARMACIST</td>\n",
       "      <td>35.00</td>\n",
       "      <td>2016-03-05</td>\n",
       "      <td>NaN</td>\n",
       "      <td>NaN</td>\n",
       "      <td>* EARMARKED CONTRIBUTION: SEE BELOW</td>\n",
       "      <td>SA17A</td>\n",
       "      <td>1077404</td>\n",
       "      <td>VPF7BKX3MB3</td>\n",
       "      <td>P2016</td>\n",
       "    </tr>\n",
       "  </tbody>\n",
       "</table>\n",
       "</div>"
      ],
      "text/plain": [
       "     cmte_id    cand_id                  cand_nm          contbr_nm  \\\n",
       "0  C00575795  P00003392  Clinton, Hillary Rodham         AULL, ANNE   \n",
       "1  C00575795  P00003392  Clinton, Hillary Rodham  CARROLL, MARYJEAN   \n",
       "2  C00575795  P00003392  Clinton, Hillary Rodham   GANDARA, DESIREE   \n",
       "3  C00577130  P60007168         Sanders, Bernard          LEE, ALAN   \n",
       "4  C00577130  P60007168         Sanders, Bernard   LEONELLI, ODETTE   \n",
       "\n",
       "     contbr_city contbr_st     contbr_zip            contbr_employer  \\\n",
       "0       LARKSPUR        CA 949,391,913.00                        NaN   \n",
       "1        CAMBRIA        CA 934,284,638.00                        NaN   \n",
       "2        FONTANA        CA 923,371,507.00                        NaN   \n",
       "3      CAMARILLO        CA 930,111,214.00  AT&T GOVERNMENT SOLUTIONS   \n",
       "4  REDONDO BEACH        CA 902,784,310.00   VERICOR ENTERPRISES INC.   \n",
       "\n",
       "   contbr_occupation  contb_receipt_amt contb_receipt_dt receipt_desc memo_cd  \\\n",
       "0            RETIRED              50.00       2016-04-26          NaN       X   \n",
       "1            RETIRED             200.00       2016-04-20          NaN       X   \n",
       "2            RETIRED               5.00       2016-04-02          NaN       X   \n",
       "3  SOFTWARE ENGINEER              40.00       2016-03-04          NaN     NaN   \n",
       "4         PHARMACIST              35.00       2016-03-05          NaN     NaN   \n",
       "\n",
       "                             memo_text form_tp  file_num      tran_id  \\\n",
       "0               * HILLARY VICTORY FUND    SA18   1091718     C4768722   \n",
       "1               * HILLARY VICTORY FUND    SA18   1091718     C4747242   \n",
       "2               * HILLARY VICTORY FUND    SA18   1091718     C4666603   \n",
       "3  * EARMARKED CONTRIBUTION: SEE BELOW   SA17A   1077404  VPF7BKWA097   \n",
       "4  * EARMARKED CONTRIBUTION: SEE BELOW   SA17A   1077404  VPF7BKX3MB3   \n",
       "\n",
       "  election_tp  \n",
       "0       P2016  \n",
       "1       P2016  \n",
       "2       P2016  \n",
       "3       P2016  \n",
       "4       P2016  "
      ]
     },
     "execution_count": 4,
     "metadata": {},
     "output_type": "execute_result"
    }
   ],
   "source": [
    "# 1c YOUR CODE HERE\n",
    "df.head()"
   ]
  },
  {
   "cell_type": "markdown",
   "metadata": {},
   "source": [
    "- **1c answer here:** cand_id seems to be in the form of alphabet+8*number; cand_nm seems to be standard across rows as well, corresponding to the id; contbr_st seems to be the state's abbreviated form and is correct for the top 5 rows as all the locations exist in the state"
   ]
  },
  {
   "cell_type": "markdown",
   "metadata": {
    "deletable": false,
    "nbgrader": {
     "checksum": "0ec29a2cabd52709322d1cfd650babe7",
     "grade": true,
     "grade_id": "cell-23b51536d24c1645",
     "locked": false,
     "points": 0,
     "schema_version": 1,
     "solution": true
    }
   },
   "source": [
    "**1d.** Print out the values for the column `election_tp`. In your own words, based on the documentation, what information does the `election_tp` variable contain? Do the values in the column match the documentation? (3 points)"
   ]
  },
  {
   "cell_type": "code",
   "execution_count": 5,
   "metadata": {},
   "outputs": [
    {
     "data": {
      "text/plain": [
       "0          P2016\n",
       "1          P2016\n",
       "2          P2016\n",
       "3          P2016\n",
       "4          P2016\n",
       "           ...  \n",
       "1125654    P2016\n",
       "1125655    P2016\n",
       "1125656    P2016\n",
       "1125657    P2016\n",
       "1125658    P2016\n",
       "Name: election_tp, Length: 1125659, dtype: object"
      ]
     },
     "execution_count": 5,
     "metadata": {},
     "output_type": "execute_result"
    }
   ],
   "source": [
    "# 1d YOUR CODE HERE\n",
    "df[\"election_tp\"]"
   ]
  },
  {
   "cell_type": "markdown",
   "metadata": {
    "deletable": false,
    "nbgrader": {
     "checksum": "cfa64002e64474584dc1442b5a39b460",
     "grade": true,
     "grade_id": "cell-8a320c2ff7c24d98",
     "locked": false,
     "points": 0,
     "schema_version": 1,
     "solution": true
    }
   },
   "source": [
    "- **1d answer here:** election_tp is the election type, so whether it's primary, general, convention, runoff, special, recount, or other election, also seems to match the PYYYY format in the docs"
   ]
  },
  {
   "cell_type": "markdown",
   "metadata": {
    "deletable": false,
    "nbgrader": {
     "checksum": "442b24601da06376c43cbe6ef5c5348a",
     "grade": true,
     "grade_id": "cell-6a453219105384dd",
     "locked": false,
     "points": 0,
     "schema_version": 1,
     "solution": true
    }
   },
   "source": [
    "**1e.** Print out the datatypes for all of the columns. What are the datatypes for the `contbr_zip`, `contb_receipt_amt`, `contb_receipt_dt`? (5 points)"
   ]
  },
  {
   "cell_type": "code",
   "execution_count": 6,
   "metadata": {
    "deletable": false,
    "nbgrader": {
     "checksum": "c5a1b7f30648cced7269ccb9b1532bd6",
     "grade": true,
     "grade_id": "cell-90c49bd6471a3dc9",
     "locked": false,
     "points": 0,
     "schema_version": 1,
     "solution": true
    }
   },
   "outputs": [
    {
     "data": {
      "text/plain": [
       "cmte_id                      object\n",
       "cand_id                      object\n",
       "cand_nm                      object\n",
       "contbr_nm                    object\n",
       "contbr_city                  object\n",
       "contbr_st                    object\n",
       "contbr_zip                   object\n",
       "contbr_employer              object\n",
       "contbr_occupation            object\n",
       "contb_receipt_amt           float64\n",
       "contb_receipt_dt     datetime64[ns]\n",
       "receipt_desc                 object\n",
       "memo_cd                      object\n",
       "memo_text                    object\n",
       "form_tp                      object\n",
       "file_num                      int64\n",
       "tran_id                      object\n",
       "election_tp                  object\n",
       "dtype: object"
      ]
     },
     "execution_count": 6,
     "metadata": {},
     "output_type": "execute_result"
    }
   ],
   "source": [
    "# 1e YOUR CODE HERE\n",
    "df.dtypes"
   ]
  },
  {
   "cell_type": "markdown",
   "metadata": {
    "deletable": false,
    "nbgrader": {
     "checksum": "60d3e303837e9603de5b96e32af7d806",
     "grade": true,
     "grade_id": "cell-447dc63eff8ebc5f",
     "locked": false,
     "points": 0,
     "schema_version": 1,
     "solution": true
    }
   },
   "source": [
    "- **1e answer here:** contbr_zip: object; contb_receipt_amt: float64; contb_receipt_dt: datetime64[ns]"
   ]
  },
  {
   "cell_type": "markdown",
   "metadata": {
    "collapsed": true,
    "deletable": false,
    "jupyter": {
     "outputs_hidden": true
    },
    "nbgrader": {
     "checksum": "20a71229316bf24a2ce62c52f72d8142",
     "grade": true,
     "grade_id": "cell-963603c5ed346a99",
     "locked": false,
     "points": 0,
     "schema_version": 1,
     "solution": true
    }
   },
   "source": [
    "**1f.** What columns have the most non-nulls?  Would you recommend to drop any columns based on the number of nulls? (5 points)"
   ]
  },
  {
   "cell_type": "code",
   "execution_count": 7,
   "metadata": {
    "deletable": false,
    "nbgrader": {
     "checksum": "426b589a9d6457f38381eb1c77678d4f",
     "grade": true,
     "grade_id": "cell-b6fc3f7c906c95a2",
     "locked": false,
     "points": 0,
     "schema_version": 1,
     "solution": true
    }
   },
   "outputs": [
    {
     "data": {
      "text/plain": [
       "cmte_id              1125659\n",
       "cand_id              1125659\n",
       "tran_id              1125659\n",
       "file_num             1125659\n",
       "form_tp              1125659\n",
       "contb_receipt_dt     1125659\n",
       "contb_receipt_amt    1125659\n",
       "contbr_st            1125659\n",
       "contbr_nm            1125659\n",
       "cand_nm              1125659\n",
       "contbr_city          1125633\n",
       "contbr_zip           1125564\n",
       "election_tp          1124234\n",
       "contbr_occupation    1115260\n",
       "contbr_employer       967757\n",
       "memo_text             501148\n",
       "memo_cd               144268\n",
       "receipt_desc           15045\n",
       "dtype: int64"
      ]
     },
     "execution_count": 7,
     "metadata": {},
     "output_type": "execute_result"
    }
   ],
   "source": [
    "# 1f YOUR CODE HERE\n",
    "df.count().sort_values(ascending=False)"
   ]
  },
  {
   "cell_type": "markdown",
   "metadata": {
    "collapsed": true,
    "deletable": false,
    "jupyter": {
     "outputs_hidden": true
    },
    "nbgrader": {
     "checksum": "81ebf2a2f96961b4464f6c35d2143427",
     "grade": true,
     "grade_id": "cell-bea2cf7a6fff8565",
     "locked": false,
     "points": 0,
     "schema_version": 1,
     "solution": true
    }
   },
   "source": [
    "- **1f answer here:** most non-nulls: cmte_id, cand_id, tran_id, file_num, form_tp, contb_receipt_dt, contb_receipt_amt, contbr_st, contbr_nm; I would not recommend dropping a column just because of nulls, instead the null value should be accounted for in the data analysis. If you had to drop columns, memo_cd and recept_desc are both very small percentages of the total dataset, so I would drop those."
   ]
  },
  {
   "cell_type": "markdown",
   "metadata": {},
   "source": [
    "**1g.** A column we know that we want to use is the cand_nm column.  From the documentation each candidate is a unique candidate id also. Check data quality of `cand_id` column to see if it matches `cand_nm` column. Specifically check to ensure our targetted candidate 'Bernard Sanders' always has the same cand_id throughout. Any issues with `cand_nm` matching `cand_id`? (5 points)"
   ]
  },
  {
   "cell_type": "code",
   "execution_count": 8,
   "metadata": {},
   "outputs": [
    {
     "name": "stdout",
     "output_type": "stream",
     "text": [
      "cand_id\n",
      "P00003392    True\n",
      "P20002671    True\n",
      "P20002721    True\n",
      "P20003281    True\n",
      "P20003984    True\n",
      "P40003576    True\n",
      "P60003670    True\n",
      "P60005915    True\n",
      "P60006046    True\n",
      "P60006111    True\n",
      "P60006723    True\n",
      "P60007168    True\n",
      "P60007242    True\n",
      "P60007572    True\n",
      "P60007671    True\n",
      "P60007697    True\n",
      "P60008059    True\n",
      "P60008398    True\n",
      "P60008521    True\n",
      "P60008885    True\n",
      "P60009685    True\n",
      "P60022654    True\n",
      "P80001571    True\n",
      "P80003379    True\n",
      "P80003478    True\n",
      "dtype: bool\n"
     ]
    },
    {
     "name": "stderr",
     "output_type": "stream",
     "text": [
      "/var/folders/g6/0bc2_tl1389c2rmm69jgtcr00000gn/T/ipykernel_86266/196516410.py:7: DeprecationWarning: DataFrameGroupBy.apply operated on the grouping columns. This behavior is deprecated, and in a future version of pandas the grouping columns will be excluded from the operation. Either pass `include_groups=False` to exclude the groupings or explicitly select the grouping columns after groupby to silence this warning.\n",
      "  result = cand_id_groups.apply(lambda x: check_all_same(x, \"cand_nm\"))\n"
     ]
    },
    {
     "data": {
      "text/plain": [
       "np.True_"
      ]
     },
     "execution_count": 8,
     "metadata": {},
     "output_type": "execute_result"
    }
   ],
   "source": [
    "# 1g YOUR CODE HERE\n",
    "cand_id_groups = df.groupby(\"cand_id\")\n",
    "\n",
    "def check_all_same(group, column):\n",
    "    return (group[column].nunique() == 1)\n",
    "\n",
    "result = cand_id_groups.apply(lambda x: check_all_same(x, \"cand_nm\"))\n",
    "print(result)\n",
    "\n",
    "bernie_group = cand_id_groups.get_group(\"P60007168\")\n",
    "(bernie_group[\"cand_nm\"] == \"Sanders, Bernard\").all()"
   ]
  },
  {
   "cell_type": "markdown",
   "metadata": {},
   "source": [
    "- **1g answer here:** No, there do not seem to be any issues with matching cand_nm to cand_id"
   ]
  },
  {
   "cell_type": "markdown",
   "metadata": {},
   "source": [
    "**1h.** Another area to check is to make sure all of the records are from California. Check the `contbr_st` column - are there any records outside of California based on `contbr_st`? (5 points)"
   ]
  },
  {
   "cell_type": "code",
   "execution_count": 9,
   "metadata": {},
   "outputs": [
    {
     "data": {
      "text/plain": [
       "np.True_"
      ]
     },
     "execution_count": 9,
     "metadata": {},
     "output_type": "execute_result"
    }
   ],
   "source": [
    "# 1h YOUR CODE HERE\n",
    "(df[\"contbr_st\"] == \"CA\").all()"
   ]
  },
  {
   "cell_type": "markdown",
   "metadata": {},
   "source": [
    "- **1h answer here:** No"
   ]
  },
  {
   "cell_type": "markdown",
   "metadata": {},
   "source": [
    "**1i.** The next column to check for the analysis is the `tran_id` column. This column could be the primary key so look for duplicates. How many duplicate entries are there? Any pattern for why are there duplicate entries? (5 points)"
   ]
  },
  {
   "cell_type": "code",
   "execution_count": 10,
   "metadata": {},
   "outputs": [
    {
     "name": "stdout",
     "output_type": "stream",
     "text": [
      "3454\n",
      "           cmte_id    cand_id                    cand_nm          contbr_nm  \\\n",
      "15650    C00574624  P60006111  Cruz, Rafael Edward 'Ted'    HAWKINS, THOMAS   \n",
      "16641    C00574624  P60006111  Cruz, Rafael Edward 'Ted'      KREMER, DEBRA   \n",
      "16963    C00574624  P60006111  Cruz, Rafael Edward 'Ted'    GOODWIN, HOWARD   \n",
      "17290    C00574624  P60006111  Cruz, Rafael Edward 'Ted'   VALKO, BONNIE L.   \n",
      "17960    C00574624  P60006111  Cruz, Rafael Edward 'Ted'  PICKERING, VICTOR   \n",
      "...            ...        ...                        ...                ...   \n",
      "1125589  C00573519  P60005915        Carson, Benjamin S.      LONGWELL, SAM   \n",
      "1125596  C00573519  P60005915        Carson, Benjamin S.      MANN, VIVIANE   \n",
      "1125597  C00573519  P60005915        Carson, Benjamin S.      MANN, VIVIANE   \n",
      "1125598  C00573519  P60005915        Carson, Benjamin S.      MANN, VIVIANE   \n",
      "1125614  C00573519  P60005915        Carson, Benjamin S.    HANSEN, WILLIAM   \n",
      "\n",
      "           contbr_city contbr_st     contbr_zip      contbr_employer  \\\n",
      "15650        SAN DIEGO        CA 921,015,961.00            AMEDITECH   \n",
      "16641           RAMONA        CA 920,655,819.00              RETIRED   \n",
      "16963          VALLEJO        CA 945,892,647.00  HOWARD I GOODWIN DC   \n",
      "17290       ATASCADERO        CA 934,221,216.00              RETIRED   \n",
      "17960        TEMPLETON        CA 934,658,341.00              RETIRED   \n",
      "...                ...       ...            ...                  ...   \n",
      "1125589   CAMERON PARK        CA      956829011              RETIRED   \n",
      "1125596  MONARCH BEACH        CA      926293467        SELF EMPLOYED   \n",
      "1125597  MONARCH BEACH        CA      926293467        SELF EMPLOYED   \n",
      "1125598  MONARCH BEACH        CA      926293467        SELF EMPLOYED   \n",
      "1125614       GLENDALE        CA      912081507              RETIRED   \n",
      "\n",
      "            contbr_occupation  contb_receipt_amt contb_receipt_dt  \\\n",
      "15650              ACCOUNTANT              70.00       2015-12-10   \n",
      "16641                 RETIRED              25.00       2015-12-09   \n",
      "16963            CHIROPRACTOR              50.00       2015-12-07   \n",
      "17290                 RETIRED             100.00       2015-12-02   \n",
      "17960                 RETIRED             250.00       2015-12-09   \n",
      "...                       ...                ...              ...   \n",
      "1125589               RETIRED              50.00       2016-01-06   \n",
      "1125596  REAL ESTATE INVESTOR           1,000.00       2016-01-02   \n",
      "1125597  REAL ESTATE INVESTOR              25.00       2016-01-08   \n",
      "1125598  REAL ESTATE INVESTOR              50.00       2016-01-14   \n",
      "1125614               RETIRED              25.00       2016-01-19   \n",
      "\n",
      "        receipt_desc memo_cd memo_text form_tp  file_num       tran_id  \\\n",
      "15650            NaN     NaN       NaN   SA17A   1057556   SA17.770299   \n",
      "16641            NaN     NaN       NaN   SA17A   1057556   SA17.771839   \n",
      "16963            NaN     NaN       NaN   SA17A   1057556   SA17.757766   \n",
      "17290            NaN     NaN       NaN   SA17A   1057556   SA17.747156   \n",
      "17960            NaN     NaN       NaN   SA17A   1057556   SA17.771843   \n",
      "...              ...     ...       ...     ...       ...           ...   \n",
      "1125589          NaN     NaN       NaN   SA17A   1073637  SA17.1121072   \n",
      "1125596          NaN     NaN       NaN   SA17A   1073637  SA17.1112655   \n",
      "1125597          NaN     NaN       NaN   SA17A   1073637  SA17.1126164   \n",
      "1125598          NaN     NaN       NaN   SA17A   1073637  SA17.1137886   \n",
      "1125614          NaN     NaN       NaN   SA17A   1073637  SA17.1153096   \n",
      "\n",
      "        election_tp  \n",
      "15650         P2016  \n",
      "16641         P2016  \n",
      "16963         P2016  \n",
      "17290         P2016  \n",
      "17960         P2016  \n",
      "...             ...  \n",
      "1125589       P2016  \n",
      "1125596       P2016  \n",
      "1125597       P2016  \n",
      "1125598       P2016  \n",
      "1125614       P2016  \n",
      "\n",
      "[3454 rows x 18 columns]\n"
     ]
    }
   ],
   "source": [
    "# 1i YOUR CODE HERE\n",
    "duplicates = df[\"tran_id\"].duplicated()\n",
    "print(duplicates.sum())\n",
    "print(df[duplicates])\n",
    "# print(df[duplicates].sort_values(by=\"contb_receipt_dt\"))"
   ]
  },
  {
   "cell_type": "markdown",
   "metadata": {},
   "source": [
    "- **1i answer here:** 3454 duplicate entries. I can't see any pattern here, I thought maybe all the contb_receipt_amt values were divisible by 25, but that is not the case. I also checked whether there were any patterns with the dates, but they seem to be reasonable as well."
   ]
  },
  {
   "cell_type": "markdown",
   "metadata": {},
   "source": [
    "**1j.** Another column to check is the `contb_receipt_amt` that shows the donation amounts. How many negative donations are included? What do negative donations mean? Please show at least pull a few rows to look at the records with negative donations. Do these records match with the expectation of why a negative donation would happen? (5 points)"
   ]
  },
  {
   "cell_type": "code",
   "execution_count": 11,
   "metadata": {},
   "outputs": [
    {
     "name": "stdout",
     "output_type": "stream",
     "text": [
      "11896\n"
     ]
    },
    {
     "data": {
      "text/html": [
       "<div>\n",
       "<style scoped>\n",
       "    .dataframe tbody tr th:only-of-type {\n",
       "        vertical-align: middle;\n",
       "    }\n",
       "\n",
       "    .dataframe tbody tr th {\n",
       "        vertical-align: top;\n",
       "    }\n",
       "\n",
       "    .dataframe thead th {\n",
       "        text-align: right;\n",
       "    }\n",
       "</style>\n",
       "<table border=\"1\" class=\"dataframe\">\n",
       "  <thead>\n",
       "    <tr style=\"text-align: right;\">\n",
       "      <th></th>\n",
       "      <th>cmte_id</th>\n",
       "      <th>cand_id</th>\n",
       "      <th>cand_nm</th>\n",
       "      <th>contbr_nm</th>\n",
       "      <th>contbr_city</th>\n",
       "      <th>contbr_st</th>\n",
       "      <th>contbr_zip</th>\n",
       "      <th>contbr_employer</th>\n",
       "      <th>contbr_occupation</th>\n",
       "      <th>contb_receipt_amt</th>\n",
       "      <th>contb_receipt_dt</th>\n",
       "      <th>receipt_desc</th>\n",
       "      <th>memo_cd</th>\n",
       "      <th>memo_text</th>\n",
       "      <th>form_tp</th>\n",
       "      <th>file_num</th>\n",
       "      <th>tran_id</th>\n",
       "      <th>election_tp</th>\n",
       "    </tr>\n",
       "  </thead>\n",
       "  <tbody>\n",
       "    <tr>\n",
       "      <th>19</th>\n",
       "      <td>C00574624</td>\n",
       "      <td>P60006111</td>\n",
       "      <td>Cruz, Rafael Edward 'Ted'</td>\n",
       "      <td>JOLLIFF, RICHARD</td>\n",
       "      <td>CHICO</td>\n",
       "      <td>CA</td>\n",
       "      <td>959,289,507.00</td>\n",
       "      <td>SELF EMPLOYED</td>\n",
       "      <td>RANCHER</td>\n",
       "      <td>-25.00</td>\n",
       "      <td>2016-04-29</td>\n",
       "      <td>REDESIGNATION TO GENERAL</td>\n",
       "      <td>X</td>\n",
       "      <td>REDESIGNATION TO GENERAL</td>\n",
       "      <td>SA17A</td>\n",
       "      <td>1077664</td>\n",
       "      <td>SA17A.1826482B</td>\n",
       "      <td>P2016</td>\n",
       "    </tr>\n",
       "    <tr>\n",
       "      <th>23</th>\n",
       "      <td>C00574624</td>\n",
       "      <td>P60006111</td>\n",
       "      <td>Cruz, Rafael Edward 'Ted'</td>\n",
       "      <td>JOLLIFF, RICHARD</td>\n",
       "      <td>CHICO</td>\n",
       "      <td>CA</td>\n",
       "      <td>959,289,507.00</td>\n",
       "      <td>SELF EMPLOYED</td>\n",
       "      <td>RANCHER</td>\n",
       "      <td>-150.00</td>\n",
       "      <td>2016-04-29</td>\n",
       "      <td>REDESIGNATION TO GENERAL</td>\n",
       "      <td>X</td>\n",
       "      <td>REDESIGNATION TO GENERAL</td>\n",
       "      <td>SA17A</td>\n",
       "      <td>1077664</td>\n",
       "      <td>SA17A.1826483B</td>\n",
       "      <td>P2016</td>\n",
       "    </tr>\n",
       "    <tr>\n",
       "      <th>81</th>\n",
       "      <td>C00574624</td>\n",
       "      <td>P60006111</td>\n",
       "      <td>Cruz, Rafael Edward 'Ted'</td>\n",
       "      <td>JOLLIFF, RICHARD</td>\n",
       "      <td>CHICO</td>\n",
       "      <td>CA</td>\n",
       "      <td>959,289,507.00</td>\n",
       "      <td>SELF EMPLOYED</td>\n",
       "      <td>RANCHER</td>\n",
       "      <td>-60.00</td>\n",
       "      <td>2016-04-14</td>\n",
       "      <td>REDESIGNATION TO GENERAL</td>\n",
       "      <td>X</td>\n",
       "      <td>REDESIGNATION TO GENERAL</td>\n",
       "      <td>SA17A</td>\n",
       "      <td>1077664</td>\n",
       "      <td>SA17A.1827494</td>\n",
       "      <td>P2016</td>\n",
       "    </tr>\n",
       "    <tr>\n",
       "      <th>190</th>\n",
       "      <td>C00574624</td>\n",
       "      <td>P60006111</td>\n",
       "      <td>Cruz, Rafael Edward 'Ted'</td>\n",
       "      <td>NOWELL, DIANA L.</td>\n",
       "      <td>RANCHO SANTA MARGARITA</td>\n",
       "      <td>CA</td>\n",
       "      <td>926,884,928.00</td>\n",
       "      <td>CAPISTRAND UNIFIED SCHOOL DISTRICT</td>\n",
       "      <td>LIBRARIAN TECHNICIAN</td>\n",
       "      <td>-100.00</td>\n",
       "      <td>2016-04-11</td>\n",
       "      <td>REDESIGNATION TO GENERAL</td>\n",
       "      <td>X</td>\n",
       "      <td>REDESIGNATION TO GENERAL</td>\n",
       "      <td>SA17A</td>\n",
       "      <td>1077664</td>\n",
       "      <td>SA17A.1639830B</td>\n",
       "      <td>P2016</td>\n",
       "    </tr>\n",
       "    <tr>\n",
       "      <th>213</th>\n",
       "      <td>C00574624</td>\n",
       "      <td>P60006111</td>\n",
       "      <td>Cruz, Rafael Edward 'Ted'</td>\n",
       "      <td>LICHTY, ANDREW MR.</td>\n",
       "      <td>SAN DIEGO</td>\n",
       "      <td>CA</td>\n",
       "      <td>921,096,720.00</td>\n",
       "      <td>SELF EMPLOYED</td>\n",
       "      <td>REAL ESTATE</td>\n",
       "      <td>-25.00</td>\n",
       "      <td>2016-04-30</td>\n",
       "      <td>REDESIGNATION TO GENERAL</td>\n",
       "      <td>X</td>\n",
       "      <td>REDESIGNATION TO GENERAL</td>\n",
       "      <td>SA17A</td>\n",
       "      <td>1077664</td>\n",
       "      <td>SA17A.1826888B</td>\n",
       "      <td>P2016</td>\n",
       "    </tr>\n",
       "    <tr>\n",
       "      <th>...</th>\n",
       "      <td>...</td>\n",
       "      <td>...</td>\n",
       "      <td>...</td>\n",
       "      <td>...</td>\n",
       "      <td>...</td>\n",
       "      <td>...</td>\n",
       "      <td>...</td>\n",
       "      <td>...</td>\n",
       "      <td>...</td>\n",
       "      <td>...</td>\n",
       "      <td>...</td>\n",
       "      <td>...</td>\n",
       "      <td>...</td>\n",
       "      <td>...</td>\n",
       "      <td>...</td>\n",
       "      <td>...</td>\n",
       "      <td>...</td>\n",
       "      <td>...</td>\n",
       "    </tr>\n",
       "    <tr>\n",
       "      <th>1125008</th>\n",
       "      <td>C00574624</td>\n",
       "      <td>P60006111</td>\n",
       "      <td>Cruz, Rafael Edward 'Ted'</td>\n",
       "      <td>NELSON, PETER C. MR.</td>\n",
       "      <td>SAN LUIS OBISPO</td>\n",
       "      <td>CA</td>\n",
       "      <td>934018000</td>\n",
       "      <td>SELF EMPLOYED</td>\n",
       "      <td>DENTIST</td>\n",
       "      <td>-2,700.00</td>\n",
       "      <td>2015-07-31</td>\n",
       "      <td>REDESIGNATION TO GENERAL</td>\n",
       "      <td>X</td>\n",
       "      <td>REDESIGNATION TO GENERAL</td>\n",
       "      <td>SA17A</td>\n",
       "      <td>1053893</td>\n",
       "      <td>SA17.466666B</td>\n",
       "      <td>P2016</td>\n",
       "    </tr>\n",
       "    <tr>\n",
       "      <th>1125317</th>\n",
       "      <td>C00580399</td>\n",
       "      <td>P60008521</td>\n",
       "      <td>Christie, Christopher J.</td>\n",
       "      <td>ASCHER, STEPHEN</td>\n",
       "      <td>PASADENA</td>\n",
       "      <td>CA</td>\n",
       "      <td>911013113</td>\n",
       "      <td>MIRAMAR</td>\n",
       "      <td>EXECUTIVE</td>\n",
       "      <td>-2,700.00</td>\n",
       "      <td>2016-01-30</td>\n",
       "      <td>REATTRIBUTION TO SPOUSE</td>\n",
       "      <td>X</td>\n",
       "      <td>REATTRIBUTION TO SPOUSE</td>\n",
       "      <td>SA17A</td>\n",
       "      <td>1051204</td>\n",
       "      <td>SA17.A40065</td>\n",
       "      <td>P2016</td>\n",
       "    </tr>\n",
       "    <tr>\n",
       "      <th>1125427</th>\n",
       "      <td>C00574624</td>\n",
       "      <td>P60006111</td>\n",
       "      <td>Cruz, Rafael Edward 'Ted'</td>\n",
       "      <td>HANSEN, WILLIAM</td>\n",
       "      <td>GLENDALE</td>\n",
       "      <td>CA</td>\n",
       "      <td>912081507</td>\n",
       "      <td>RETIRED</td>\n",
       "      <td>RETIRED</td>\n",
       "      <td>-5,400.00</td>\n",
       "      <td>2015-07-01</td>\n",
       "      <td>NaN</td>\n",
       "      <td>NaN</td>\n",
       "      <td>CHARGED BACK</td>\n",
       "      <td>SA17A</td>\n",
       "      <td>1053893</td>\n",
       "      <td>SA17.440961</td>\n",
       "      <td>P2016</td>\n",
       "    </tr>\n",
       "    <tr>\n",
       "      <th>1125446</th>\n",
       "      <td>C00573519</td>\n",
       "      <td>P60005915</td>\n",
       "      <td>Carson, Benjamin S.</td>\n",
       "      <td>PECK, JOHN JR.</td>\n",
       "      <td>RANCHO SANTA FE</td>\n",
       "      <td>CA</td>\n",
       "      <td>920670829</td>\n",
       "      <td>PECK ENTERPRISES</td>\n",
       "      <td>PRESIDENT</td>\n",
       "      <td>-2,700.00</td>\n",
       "      <td>2016-01-01</td>\n",
       "      <td>REDESIGNATION TO GENERAL</td>\n",
       "      <td>X</td>\n",
       "      <td>REDESIGNATION TO GENERAL</td>\n",
       "      <td>SA17A</td>\n",
       "      <td>1073637</td>\n",
       "      <td>SA17.817713B</td>\n",
       "      <td>P2016</td>\n",
       "    </tr>\n",
       "    <tr>\n",
       "      <th>1125582</th>\n",
       "      <td>C00574624</td>\n",
       "      <td>P60006111</td>\n",
       "      <td>Cruz, Rafael Edward 'Ted'</td>\n",
       "      <td>FARRELL, PETER</td>\n",
       "      <td>LA JOLLA</td>\n",
       "      <td>CA</td>\n",
       "      <td>920375633</td>\n",
       "      <td>RESMED</td>\n",
       "      <td>CHAIRMAN</td>\n",
       "      <td>-2,700.00</td>\n",
       "      <td>2015-08-28</td>\n",
       "      <td>REDESIGNATION TO GENERAL</td>\n",
       "      <td>X</td>\n",
       "      <td>REDESIGNATION TO GENERAL</td>\n",
       "      <td>SA17A</td>\n",
       "      <td>1053893</td>\n",
       "      <td>SA17.348532B</td>\n",
       "      <td>P2016</td>\n",
       "    </tr>\n",
       "  </tbody>\n",
       "</table>\n",
       "<p>11896 rows × 18 columns</p>\n",
       "</div>"
      ],
      "text/plain": [
       "           cmte_id    cand_id                    cand_nm  \\\n",
       "19       C00574624  P60006111  Cruz, Rafael Edward 'Ted'   \n",
       "23       C00574624  P60006111  Cruz, Rafael Edward 'Ted'   \n",
       "81       C00574624  P60006111  Cruz, Rafael Edward 'Ted'   \n",
       "190      C00574624  P60006111  Cruz, Rafael Edward 'Ted'   \n",
       "213      C00574624  P60006111  Cruz, Rafael Edward 'Ted'   \n",
       "...            ...        ...                        ...   \n",
       "1125008  C00574624  P60006111  Cruz, Rafael Edward 'Ted'   \n",
       "1125317  C00580399  P60008521   Christie, Christopher J.   \n",
       "1125427  C00574624  P60006111  Cruz, Rafael Edward 'Ted'   \n",
       "1125446  C00573519  P60005915        Carson, Benjamin S.   \n",
       "1125582  C00574624  P60006111  Cruz, Rafael Edward 'Ted'   \n",
       "\n",
       "                    contbr_nm             contbr_city contbr_st  \\\n",
       "19           JOLLIFF, RICHARD                   CHICO        CA   \n",
       "23           JOLLIFF, RICHARD                   CHICO        CA   \n",
       "81           JOLLIFF, RICHARD                   CHICO        CA   \n",
       "190          NOWELL, DIANA L.  RANCHO SANTA MARGARITA        CA   \n",
       "213        LICHTY, ANDREW MR.               SAN DIEGO        CA   \n",
       "...                       ...                     ...       ...   \n",
       "1125008  NELSON, PETER C. MR.         SAN LUIS OBISPO        CA   \n",
       "1125317       ASCHER, STEPHEN                PASADENA        CA   \n",
       "1125427       HANSEN, WILLIAM                GLENDALE        CA   \n",
       "1125446        PECK, JOHN JR.         RANCHO SANTA FE        CA   \n",
       "1125582        FARRELL, PETER                LA JOLLA        CA   \n",
       "\n",
       "            contbr_zip                     contbr_employer  \\\n",
       "19      959,289,507.00                       SELF EMPLOYED   \n",
       "23      959,289,507.00                       SELF EMPLOYED   \n",
       "81      959,289,507.00                       SELF EMPLOYED   \n",
       "190     926,884,928.00  CAPISTRAND UNIFIED SCHOOL DISTRICT   \n",
       "213     921,096,720.00                       SELF EMPLOYED   \n",
       "...                ...                                 ...   \n",
       "1125008      934018000                       SELF EMPLOYED   \n",
       "1125317      911013113                             MIRAMAR   \n",
       "1125427      912081507                             RETIRED   \n",
       "1125446      920670829                    PECK ENTERPRISES   \n",
       "1125582      920375633                              RESMED   \n",
       "\n",
       "            contbr_occupation  contb_receipt_amt contb_receipt_dt  \\\n",
       "19                    RANCHER             -25.00       2016-04-29   \n",
       "23                    RANCHER            -150.00       2016-04-29   \n",
       "81                    RANCHER             -60.00       2016-04-14   \n",
       "190      LIBRARIAN TECHNICIAN            -100.00       2016-04-11   \n",
       "213               REAL ESTATE             -25.00       2016-04-30   \n",
       "...                       ...                ...              ...   \n",
       "1125008               DENTIST          -2,700.00       2015-07-31   \n",
       "1125317             EXECUTIVE          -2,700.00       2016-01-30   \n",
       "1125427               RETIRED          -5,400.00       2015-07-01   \n",
       "1125446             PRESIDENT          -2,700.00       2016-01-01   \n",
       "1125582              CHAIRMAN          -2,700.00       2015-08-28   \n",
       "\n",
       "                     receipt_desc memo_cd                 memo_text form_tp  \\\n",
       "19       REDESIGNATION TO GENERAL       X  REDESIGNATION TO GENERAL   SA17A   \n",
       "23       REDESIGNATION TO GENERAL       X  REDESIGNATION TO GENERAL   SA17A   \n",
       "81       REDESIGNATION TO GENERAL       X  REDESIGNATION TO GENERAL   SA17A   \n",
       "190      REDESIGNATION TO GENERAL       X  REDESIGNATION TO GENERAL   SA17A   \n",
       "213      REDESIGNATION TO GENERAL       X  REDESIGNATION TO GENERAL   SA17A   \n",
       "...                           ...     ...                       ...     ...   \n",
       "1125008  REDESIGNATION TO GENERAL       X  REDESIGNATION TO GENERAL   SA17A   \n",
       "1125317   REATTRIBUTION TO SPOUSE       X   REATTRIBUTION TO SPOUSE   SA17A   \n",
       "1125427                       NaN     NaN              CHARGED BACK   SA17A   \n",
       "1125446  REDESIGNATION TO GENERAL       X  REDESIGNATION TO GENERAL   SA17A   \n",
       "1125582  REDESIGNATION TO GENERAL       X  REDESIGNATION TO GENERAL   SA17A   \n",
       "\n",
       "         file_num         tran_id election_tp  \n",
       "19        1077664  SA17A.1826482B       P2016  \n",
       "23        1077664  SA17A.1826483B       P2016  \n",
       "81        1077664   SA17A.1827494       P2016  \n",
       "190       1077664  SA17A.1639830B       P2016  \n",
       "213       1077664  SA17A.1826888B       P2016  \n",
       "...           ...             ...         ...  \n",
       "1125008   1053893    SA17.466666B       P2016  \n",
       "1125317   1051204     SA17.A40065       P2016  \n",
       "1125427   1053893     SA17.440961       P2016  \n",
       "1125446   1073637    SA17.817713B       P2016  \n",
       "1125582   1053893    SA17.348532B       P2016  \n",
       "\n",
       "[11896 rows x 18 columns]"
      ]
     },
     "execution_count": 11,
     "metadata": {},
     "output_type": "execute_result"
    }
   ],
   "source": [
    "# 1j YOUR CODE HERE\n",
    "print((df[\"contb_receipt_amt\"] < 0).sum())\n",
    "df[(df[\"contb_receipt_amt\"] < 0)]"
   ]
  },
  {
   "cell_type": "markdown",
   "metadata": {},
   "source": [
    "- **1j answer here:** 11896 negative donations. Yeah a lot of these are \"redesignated to general\" or \"charged back\" in the memo_txt field, implying that the donation was either refunded or redirected, so money was taken from the account"
   ]
  },
  {
   "cell_type": "markdown",
   "metadata": {},
   "source": [
    "**1k.** One more column to look at is the date of donation column. Are there any dates outside of the primary period (defined as 1 Jan 2014 to 7 June 2016)? Are the dates well-formatted for our analysis? (5 points)"
   ]
  },
  {
   "cell_type": "code",
   "execution_count": 12,
   "metadata": {},
   "outputs": [
    {
     "data": {
      "text/html": [
       "<div>\n",
       "<style scoped>\n",
       "    .dataframe tbody tr th:only-of-type {\n",
       "        vertical-align: middle;\n",
       "    }\n",
       "\n",
       "    .dataframe tbody tr th {\n",
       "        vertical-align: top;\n",
       "    }\n",
       "\n",
       "    .dataframe thead th {\n",
       "        text-align: right;\n",
       "    }\n",
       "</style>\n",
       "<table border=\"1\" class=\"dataframe\">\n",
       "  <thead>\n",
       "    <tr style=\"text-align: right;\">\n",
       "      <th></th>\n",
       "      <th>cmte_id</th>\n",
       "      <th>cand_id</th>\n",
       "      <th>cand_nm</th>\n",
       "      <th>contbr_nm</th>\n",
       "      <th>contbr_city</th>\n",
       "      <th>contbr_st</th>\n",
       "      <th>contbr_zip</th>\n",
       "      <th>contbr_employer</th>\n",
       "      <th>contbr_occupation</th>\n",
       "      <th>contb_receipt_amt</th>\n",
       "      <th>contb_receipt_dt</th>\n",
       "      <th>receipt_desc</th>\n",
       "      <th>memo_cd</th>\n",
       "      <th>memo_text</th>\n",
       "      <th>form_tp</th>\n",
       "      <th>file_num</th>\n",
       "      <th>tran_id</th>\n",
       "      <th>election_tp</th>\n",
       "    </tr>\n",
       "  </thead>\n",
       "  <tbody>\n",
       "    <tr>\n",
       "      <th>9932</th>\n",
       "      <td>C00458844</td>\n",
       "      <td>P60006723</td>\n",
       "      <td>Rubio, Marco</td>\n",
       "      <td>WHEELER, MARY MS.</td>\n",
       "      <td>ATHERTON</td>\n",
       "      <td>CA</td>\n",
       "      <td>940,273,415.00</td>\n",
       "      <td>SELF-EMPLOYED</td>\n",
       "      <td>INTERIOR DESIGNER</td>\n",
       "      <td>-20.00</td>\n",
       "      <td>2013-11-05</td>\n",
       "      <td>NaN</td>\n",
       "      <td>X</td>\n",
       "      <td>TRANSFER FROM RUBIO VICTORY</td>\n",
       "      <td>SA18</td>\n",
       "      <td>1029436</td>\n",
       "      <td>SA18.631526.2.0615</td>\n",
       "      <td>P2016</td>\n",
       "    </tr>\n",
       "    <tr>\n",
       "      <th>9994</th>\n",
       "      <td>C00458844</td>\n",
       "      <td>P60006723</td>\n",
       "      <td>Rubio, Marco</td>\n",
       "      <td>WHEELER, MARY MS.</td>\n",
       "      <td>ATHERTON</td>\n",
       "      <td>CA</td>\n",
       "      <td>940,273,415.00</td>\n",
       "      <td>SELF-EMPLOYED</td>\n",
       "      <td>INTERIOR DESIGNER</td>\n",
       "      <td>20.00</td>\n",
       "      <td>2013-11-05</td>\n",
       "      <td>NaN</td>\n",
       "      <td>X</td>\n",
       "      <td>TRANSFER FROM RUBIO VICTORY</td>\n",
       "      <td>SA18</td>\n",
       "      <td>1029436</td>\n",
       "      <td>SA18.631526.3.0615</td>\n",
       "      <td>G2016</td>\n",
       "    </tr>\n",
       "  </tbody>\n",
       "</table>\n",
       "</div>"
      ],
      "text/plain": [
       "        cmte_id    cand_id       cand_nm          contbr_nm contbr_city  \\\n",
       "9932  C00458844  P60006723  Rubio, Marco  WHEELER, MARY MS.    ATHERTON   \n",
       "9994  C00458844  P60006723  Rubio, Marco  WHEELER, MARY MS.    ATHERTON   \n",
       "\n",
       "     contbr_st     contbr_zip contbr_employer  contbr_occupation  \\\n",
       "9932        CA 940,273,415.00   SELF-EMPLOYED  INTERIOR DESIGNER   \n",
       "9994        CA 940,273,415.00   SELF-EMPLOYED  INTERIOR DESIGNER   \n",
       "\n",
       "      contb_receipt_amt contb_receipt_dt receipt_desc memo_cd  \\\n",
       "9932             -20.00       2013-11-05          NaN       X   \n",
       "9994              20.00       2013-11-05          NaN       X   \n",
       "\n",
       "                        memo_text form_tp  file_num             tran_id  \\\n",
       "9932  TRANSFER FROM RUBIO VICTORY    SA18   1029436  SA18.631526.2.0615   \n",
       "9994  TRANSFER FROM RUBIO VICTORY    SA18   1029436  SA18.631526.3.0615   \n",
       "\n",
       "     election_tp  \n",
       "9932       P2016  \n",
       "9994       G2016  "
      ]
     },
     "execution_count": 12,
     "metadata": {},
     "output_type": "execute_result"
    }
   ],
   "source": [
    "# 1k YOUR CODE HERE\n",
    "start_date = pd.to_datetime('2014-01-01')\n",
    "end_date = pd.to_datetime('2023-06-07')\n",
    "\n",
    "df[(df['contb_receipt_dt'] < start_date) | (df['contb_receipt_dt'] > end_date)]"
   ]
  },
  {
   "cell_type": "markdown",
   "metadata": {},
   "source": [
    "- **1k answer here:** Yes, two seem to be on November 5th, 2013, and they are well formatted for the analysis."
   ]
  },
  {
   "cell_type": "markdown",
   "metadata": {
    "collapsed": true,
    "deletable": false,
    "jupyter": {
     "outputs_hidden": true
    },
    "nbgrader": {
     "checksum": "bffd2778d22127102347386bfb6f5b20",
     "grade": true,
     "grade_id": "cell-4ad1da24176f0450",
     "locked": false,
     "points": 0,
     "schema_version": 1,
     "solution": true
    }
   },
   "source": [
    "**1l.** Finally, answer the initial questions in the cells below (5 points)"
   ]
  },
  {
   "cell_type": "markdown",
   "metadata": {},
   "source": [
    "**1l.1** Do we have the correct # of columns and rows.\n",
    "\n",
    "- **1l.1 answer here:** Yes"
   ]
  },
  {
   "cell_type": "markdown",
   "metadata": {},
   "source": [
    "**1l.2** Do the records contain data for the questions we want to answer?\n",
    "\n",
    "- **1l.2 answer here:** Yes"
   ]
  },
  {
   "cell_type": "markdown",
   "metadata": {},
   "source": [
    "**1l.3** What columns are important?\n",
    "\n",
    "- **1l.3 answer here:** Depends on the questions you are trying to answer. So far, cand_id and cand_nm are the most significant."
   ]
  },
  {
   "cell_type": "markdown",
   "metadata": {},
   "source": [
    "**1l.4** What columns can be dropped?\n",
    "\n",
    "- **1l.4 answer here:** Ideally none, but memo_cd and receipt_desc are both columns with very high percentages of nulls, so they can be dropped."
   ]
  },
  {
   "cell_type": "markdown",
   "metadata": {},
   "source": [
    "**1l.5** What are the data problems?\n",
    "\n",
    "- **1l.5 answer here:** High percentage of nulls in memo_cd and receipt_desc. Around 3.5k duplicate rows. "
   ]
  },
  {
   "cell_type": "markdown",
   "metadata": {},
   "source": [
    "**1l.6** List any assumptions so far:\n",
    "\n",
    "- **1l.6 answer here:** Data is valid and legitimately pulled from election data. "
   ]
  },
  {
   "cell_type": "markdown",
   "metadata": {
    "collapsed": true,
    "deletable": false,
    "jupyter": {
     "outputs_hidden": true
    },
    "nbgrader": {
     "checksum": "14c2855e3d59f0da6b1afd5cf0da2da8",
     "grade": true,
     "grade_id": "cell-fd840cdd19d2bd2a",
     "locked": false,
     "points": 0,
     "schema_version": 1,
     "solution": true
    }
   },
   "source": [
    "***\n",
    "## 2. Data filtering and data quality fixes (30 points)\n",
    "\n",
    "Now that we have a basic understanding of the data, let's filter out the records we don't need and fix the data."
   ]
  },
  {
   "cell_type": "markdown",
   "metadata": {},
   "source": [
    "**2a.** From the dataset filter out (remove) any election_tp not in the primary election. Print/show the shape of the dataframe after the filtering is complete. (5 points)"
   ]
  },
  {
   "cell_type": "code",
   "execution_count": 13,
   "metadata": {
    "deletable": false,
    "nbgrader": {
     "checksum": "43ce3d15cee7ab73f53fd8f054c9826c",
     "grade": true,
     "grade_id": "cell-dce8d3107c1463ca",
     "locked": false,
     "points": 0,
     "schema_version": 1,
     "solution": true
    }
   },
   "outputs": [
    {
     "data": {
      "text/plain": [
       "(810488, 18)"
      ]
     },
     "execution_count": 13,
     "metadata": {},
     "output_type": "execute_result"
    }
   ],
   "source": [
    "# 2a YOUR CODE HERE\n",
    "df = df[df['election_tp'].str[0] == 'P']\n",
    "df.shape"
   ]
  },
  {
   "cell_type": "markdown",
   "metadata": {
    "deletable": false,
    "nbgrader": {
     "checksum": "a5f4e6df0f32e24c492a9589ec87fef6",
     "grade": true,
     "grade_id": "cell-9e3f68b21dac8e10",
     "locked": false,
     "points": 0,
     "schema_version": 1,
     "solution": true
    }
   },
   "source": [
    "**2b.** From the dataset filter out (remove) any candidate that is not Bernie Sanders. Print/show the shape of the dataframe after the filtering is complete. (5 points)"
   ]
  },
  {
   "cell_type": "code",
   "execution_count": 14,
   "metadata": {
    "deletable": false,
    "nbgrader": {
     "checksum": "4f1a9e7ee0ded9d2b5af5777cb85e505",
     "grade": true,
     "grade_id": "cell-c14fbed9d72d54e3",
     "locked": false,
     "points": 0,
     "schema_version": 1,
     "solution": true
    }
   },
   "outputs": [
    {
     "data": {
      "text/plain": [
       "(407171, 18)"
      ]
     },
     "execution_count": 14,
     "metadata": {},
     "output_type": "execute_result"
    }
   ],
   "source": [
    "# 2b YOUR CODE HERE\n",
    "df = df[df[\"cand_nm\"] == \"Sanders, Bernard\"]\n",
    "df.shape"
   ]
  },
  {
   "cell_type": "markdown",
   "metadata": {},
   "source": [
    "**2c.** The `contbr_zip` column is not formatted well for our analysis. Make a new zipcode column that is the five-digit zipcodes. Filter out any records outside of California based on the zipcode. Print/show the shape of the dataframe after the filtering is complete. (10 points).\n",
    "\n",
    "- You will have to research what the valid 5-digit zipcodes for California are!"
   ]
  },
  {
   "cell_type": "code",
   "execution_count": 15,
   "metadata": {},
   "outputs": [
    {
     "name": "stderr",
     "output_type": "stream",
     "text": [
      "/var/folders/g6/0bc2_tl1389c2rmm69jgtcr00000gn/T/ipykernel_86266/3839195870.py:3: SettingWithCopyWarning: \n",
      "A value is trying to be set on a copy of a slice from a DataFrame.\n",
      "Try using .loc[row_indexer,col_indexer] = value instead\n",
      "\n",
      "See the caveats in the documentation: https://pandas.pydata.org/pandas-docs/stable/user_guide/indexing.html#returning-a-view-versus-a-copy\n",
      "  five_digit_zips[\"zipcode\"] = five_digit_zips[\"contbr_zip\"]\n"
     ]
    },
    {
     "data": {
      "text/plain": [
       "(2197, 19)"
      ]
     },
     "execution_count": 15,
     "metadata": {},
     "output_type": "execute_result"
    }
   ],
   "source": [
    "# 2c YOUR CODE HERE\n",
    "five_digit_zips = df[df['contbr_zip'].astype(str).str.match(r'^\\d{5}$')]\n",
    "five_digit_zips[\"zipcode\"] = five_digit_zips[\"contbr_zip\"]\n",
    "df[\"zipcode\"] = None\n",
    "df.update(five_digit_zips)\n",
    "df = df[df[\"zipcode\"].notnull()]\n",
    "df.shape"
   ]
  },
  {
   "cell_type": "markdown",
   "metadata": {},
   "source": [
    "**2d.** The receipt amount column has negative donations. After talking with your team, a decision was made that the best course of action is to remove these negative values so that the donation count and amount is more accurate. Print/show the shape of the dataframe after the filtering is complete. (5 points)"
   ]
  },
  {
   "cell_type": "code",
   "execution_count": 16,
   "metadata": {},
   "outputs": [
    {
     "data": {
      "text/plain": [
       "(2193, 19)"
      ]
     },
     "execution_count": 16,
     "metadata": {},
     "output_type": "execute_result"
    }
   ],
   "source": [
    "# 2d YOUR CODE HERE\n",
    "df = df[df[\"contb_receipt_amt\"] >= 0]\n",
    "df.shape"
   ]
  },
  {
   "cell_type": "markdown",
   "metadata": {},
   "source": [
    "**2e.** From the dataset drop any columns that won't be used in the analysis. Print/show the shape of the dataframe after the dropping is complete. What columns did you drop and why? (5 points)"
   ]
  },
  {
   "cell_type": "code",
   "execution_count": 17,
   "metadata": {},
   "outputs": [
    {
     "data": {
      "text/plain": [
       "(2193, 3)"
      ]
     },
     "execution_count": 17,
     "metadata": {},
     "output_type": "execute_result"
    }
   ],
   "source": [
    "# 2e YOUR CODE HERE\n",
    "df = df[[\"contb_receipt_amt\", \"zipcode\", \"contb_receipt_dt\"]]\n",
    "df.shape"
   ]
  },
  {
   "cell_type": "markdown",
   "metadata": {},
   "source": [
    "- **2e answer here:** I do not need anything other columns for the following two questions."
   ]
  },
  {
   "cell_type": "markdown",
   "metadata": {},
   "source": [
    "**2f.** List any assumptions that you made up to this point:"
   ]
  },
  {
   "cell_type": "markdown",
   "metadata": {},
   "source": [
    "- **2f answer here:** Data is valid and legitimately pulled from election data. "
   ]
  },
  {
   "cell_type": "markdown",
   "metadata": {
    "deletable": false,
    "nbgrader": {
     "checksum": "6dc1481a003cdd752c5edfa9ac400879",
     "grade": true,
     "grade_id": "cell-f7a01ce9c5b10ac7",
     "locked": false,
     "points": 0,
     "schema_version": 1,
     "solution": true
    }
   },
   "source": [
    "***\n",
    "## 3. Answering the questions (20 points)\n",
    "\n",
    "Now that the data is cleaned and filterd - let's answer the two questions from your boss!"
   ]
  },
  {
   "cell_type": "markdown",
   "metadata": {
    "deletable": false,
    "nbgrader": {
     "checksum": "010f5de5f6af4c7f830d1cf7a81bbc0f",
     "grade": true,
     "grade_id": "cell-5617179133b06d0c",
     "locked": false,
     "points": 0,
     "schema_version": 1,
     "solution": true
    }
   },
   "source": [
    "**3a.** Which zipcode had the highest count of contributions and the most dollar amount? (10 points)"
   ]
  },
  {
   "cell_type": "code",
   "execution_count": 18,
   "metadata": {},
   "outputs": [
    {
     "name": "stdout",
     "output_type": "stream",
     "text": [
      "zipcode\n",
      "94301   3,200.00\n",
      "Name: contb_receipt_amt, dtype: float64\n"
     ]
    },
    {
     "data": {
      "text/plain": [
       "zipcode\n",
       "94602    75\n",
       "dtype: int64"
      ]
     },
     "execution_count": 18,
     "metadata": {},
     "output_type": "execute_result"
    }
   ],
   "source": [
    "# 3a YOUR CODE HERE\n",
    "zipcode_groups = df.groupby(\"zipcode\")\n",
    "greatest_contb_amt = zipcode_groups[\"contb_receipt_amt\"].sum().sort_values(ascending=False)\n",
    "print(greatest_contb_amt[0:1])\n",
    "highest_contb_count = zipcode_groups.size().sort_values(ascending=False)\n",
    "highest_contb_count[0:1]"
   ]
  },
  {
   "cell_type": "markdown",
   "metadata": {},
   "source": [
    "- **3a answer here:** Highest Count of Contributions: 94602, Most Dollar Amount: 94301"
   ]
  },
  {
   "cell_type": "markdown",
   "metadata": {},
   "source": [
    "**3b.** What day(s) of the month do most people donate? (10 points)"
   ]
  },
  {
   "cell_type": "code",
   "execution_count": 19,
   "metadata": {},
   "outputs": [
    {
     "data": {
      "text/plain": [
       "contb_receipt_dt\n",
       "29    209\n",
       "dtype: int64"
      ]
     },
     "execution_count": 19,
     "metadata": {},
     "output_type": "execute_result"
    }
   ],
   "source": [
    "# 3b YOUR CODE HERE\n",
    "day_group = df.groupby(df['contb_receipt_dt'].dt.day)\n",
    "day_group.size().sort_values(ascending=False)[0:1]"
   ]
  },
  {
   "cell_type": "markdown",
   "metadata": {},
   "source": [
    "- **3b answer here:** Seems to be the 29th of the month. LINK TO REPO: https://github.com/ajha7/DATASCI200-Assignments"
   ]
  },
  {
   "cell_type": "markdown",
   "metadata": {},
   "source": [
    "## If you have feedback for this homework, please submit it using the link below:\n",
    "\n",
    "http://goo.gl/forms/74yCiQTf6k"
   ]
  }
 ],
 "metadata": {
  "kernelspec": {
   "display_name": "Python 3 (ipykernel)",
   "language": "python",
   "name": "python3"
  },
  "language_info": {
   "codemirror_mode": {
    "name": "ipython",
    "version": 3
   },
   "file_extension": ".py",
   "mimetype": "text/x-python",
   "name": "python",
   "nbconvert_exporter": "python",
   "pygments_lexer": "ipython3",
   "version": "3.10.2"
  }
 },
 "nbformat": 4,
 "nbformat_minor": 4
}
